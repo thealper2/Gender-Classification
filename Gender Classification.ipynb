{
 "cells": [
  {
   "cell_type": "code",
   "execution_count": 28,
   "id": "dfcc931a",
   "metadata": {},
   "outputs": [],
   "source": [
    "import numpy as np\n",
    "import pandas as pd\n",
    "import os\n",
    "import matplotlib.pyplot as plt\n",
    "from tensorflow.keras.preprocessing.image import ImageDataGenerator, img_to_array, load_img\n",
    "from tensorflow.keras.utils import plot_model\n",
    "from tensorflow.keras.layers import Dense, Flatten, MaxPooling2D, Conv2D\n",
    "from tensorflow.keras.models import Sequential"
   ]
  },
  {
   "cell_type": "code",
   "execution_count": 4,
   "id": "a4fee33f",
   "metadata": {},
   "outputs": [],
   "source": [
    "train_path = \"Dataset/Train/\" \n",
    "test_path = \"Dataset/Test/\"\n",
    "valid_path = \"Dataset/Validation/\""
   ]
  },
  {
   "cell_type": "code",
   "execution_count": 7,
   "id": "3d173a2f",
   "metadata": {},
   "outputs": [],
   "source": [
    "train_gen = ImageDataGenerator(rescale = 1./255, zoom_range=0.2, shear_range=0.2, fill_mode=\"nearest\")\n",
    "test_gen = ImageDataGenerator(rescale = 1./255)\n",
    "valid_gen = ImageDataGenerator(rescale = 1./255)"
   ]
  },
  {
   "cell_type": "code",
   "execution_count": 8,
   "id": "99c875fe",
   "metadata": {},
   "outputs": [],
   "source": [
    "target_size = (64, 64)\n",
    "epochs = 10\n",
    "batch_size = 128"
   ]
  },
  {
   "cell_type": "code",
   "execution_count": 9,
   "id": "dd18dfe6",
   "metadata": {},
   "outputs": [
    {
     "name": "stdout",
     "output_type": "stream",
     "text": [
      "Found 160000 images belonging to 2 classes.\n",
      "Found 20001 images belonging to 2 classes.\n",
      "Found 22598 images belonging to 2 classes.\n"
     ]
    }
   ],
   "source": [
    "train_ds = train_gen.flow_from_directory(train_path, target_size=target_size, batch_size=batch_size)\n",
    "test_ds = test_gen.flow_from_directory(test_path, target_size=target_size, batch_size=batch_size)\n",
    "valid_ds = valid_gen.flow_from_directory(valid_path, target_size=target_size, batch_size=batch_size)"
   ]
  },
  {
   "cell_type": "code",
   "execution_count": 14,
   "id": "6697a771",
   "metadata": {},
   "outputs": [],
   "source": [
    "model = Sequential([\n",
    "    Conv2D(32, kernel_size=(3, 3), activation='relu', input_shape=(64, 64, 3)),\n",
    "    MaxPooling2D(pool_size=(2, 2)),\n",
    "    Conv2D(64, kernel_size=(3, 3), activation='relu'),\n",
    "    MaxPooling2D(pool_size=(2, 2)),\n",
    "    Flatten(),\n",
    "    Dense(128, activation='relu'),\n",
    "    Dense(1, activation='sigmoid')\n",
    "])\n",
    "\n",
    "model.compile(optimizer='adam', loss='binary_crossentropy', metrics=['accuracy'])"
   ]
  },
  {
   "cell_type": "code",
   "execution_count": 15,
   "id": "3857b3b4",
   "metadata": {},
   "outputs": [
    {
     "name": "stdout",
     "output_type": "stream",
     "text": [
      "Model: \"sequential\"\n",
      "_________________________________________________________________\n",
      " Layer (type)                Output Shape              Param #   \n",
      "=================================================================\n",
      " conv2d (Conv2D)             (None, 62, 62, 32)        896       \n",
      "                                                                 \n",
      " max_pooling2d (MaxPooling2D  (None, 31, 31, 32)       0         \n",
      " )                                                               \n",
      "                                                                 \n",
      " conv2d_1 (Conv2D)           (None, 29, 29, 64)        18496     \n",
      "                                                                 \n",
      " max_pooling2d_1 (MaxPooling  (None, 14, 14, 64)       0         \n",
      " 2D)                                                             \n",
      "                                                                 \n",
      " flatten (Flatten)           (None, 12544)             0         \n",
      "                                                                 \n",
      " dense (Dense)               (None, 128)               1605760   \n",
      "                                                                 \n",
      " dense_1 (Dense)             (None, 1)                 129       \n",
      "                                                                 \n",
      "=================================================================\n",
      "Total params: 1,625,281\n",
      "Trainable params: 1,625,281\n",
      "Non-trainable params: 0\n",
      "_________________________________________________________________\n"
     ]
    }
   ],
   "source": [
    "model.summary()"
   ]
  },
  {
   "cell_type": "code",
   "execution_count": 29,
   "id": "c087024a",
   "metadata": {},
   "outputs": [
    {
     "data": {
      "image/png": "[encoded data removed]",
      "text/plain": [
       "<IPython.core.display.Image object>"
      ]
     },
     "execution_count": 29,
     "metadata": {},
     "output_type": "execute_result"
    }
   ],
   "source": [
    "plot_model(model)"
   ]
  },
  {
   "cell_type": "code",
   "execution_count": 17,
   "id": "a9c47fca",
   "metadata": {},
   "outputs": [
    {
     "name": "stderr",
     "output_type": "stream",
     "text": [
      "/var/folders/k7/w37qytjn78j3258njhbzvlvr0000gn/T/ipykernel_54794/214167143.py:1: UserWarning: `Model.fit_generator` is deprecated and will be removed in a future version. Please use `Model.fit`, which supports generators.\n",
      "  history = model.fit_generator(generator=train_ds, validation_data=valid_ds, steps_per_epoch=128, validation_steps=128, epochs=50)\n"
     ]
    },
    {
     "name": "stdout",
     "output_type": "stream",
     "text": [
      "Epoch 1/50\n"
     ]
    },
    {
     "name": "stderr",
     "output_type": "stream",
     "text": [
      "2023-05-26 20:21:22.469404: W tensorflow/tsl/platform/profile_utils/cpu_utils.cc:128] Failed to get CPU frequency: 0 Hz\n"
     ]
    },
    {
     "name": "stdout",
     "output_type": "stream",
     "text": [
      "128/128 [==============================] - 28s 216ms/step - loss: 0.6980 - accuracy: 0.5000 - val_loss: 0.6931 - val_accuracy: 0.5000\n",
      "Epoch 2/50\n",
      "128/128 [==============================] - 28s 217ms/step - loss: 0.6931 - accuracy: 0.5000 - val_loss: 0.6931 - val_accuracy: 0.5000\n",
      "Epoch 3/50\n",
      "128/128 [==============================] - 26s 203ms/step - loss: 0.6931 - accuracy: 0.5000 - val_loss: 0.6931 - val_accuracy: 0.5000\n",
      "Epoch 4/50\n",
      "128/128 [==============================] - 28s 219ms/step - loss: 0.6931 - accuracy: 0.5000 - val_loss: 0.6931 - val_accuracy: 0.5000\n",
      "Epoch 5/50\n",
      "128/128 [==============================] - 29s 226ms/step - loss: 0.6931 - accuracy: 0.5000 - val_loss: 0.6931 - val_accuracy: 0.5000\n",
      "Epoch 6/50\n",
      "128/128 [==============================] - 30s 233ms/step - loss: 0.6931 - accuracy: 0.5000 - val_loss: 0.6931 - val_accuracy: 0.5000\n",
      "Epoch 7/50\n",
      "128/128 [==============================] - 31s 240ms/step - loss: 0.6931 - accuracy: 0.5000 - val_loss: 0.6931 - val_accuracy: 0.5000\n",
      "Epoch 8/50\n",
      "128/128 [==============================] - 30s 236ms/step - loss: 0.6931 - accuracy: 0.5000 - val_loss: 0.6931 - val_accuracy: 0.5000\n",
      "Epoch 9/50\n",
      "128/128 [==============================] - 31s 244ms/step - loss: 0.6931 - accuracy: 0.5000 - val_loss: 0.6931 - val_accuracy: 0.5000\n",
      "Epoch 10/50\n",
      "128/128 [==============================] - 32s 250ms/step - loss: 0.6931 - accuracy: 0.5000 - val_loss: 0.6931 - val_accuracy: 0.5000\n",
      "Epoch 11/50\n",
      "128/128 [==============================] - 31s 244ms/step - loss: 0.6931 - accuracy: 0.5000 - val_loss: 0.6931 - val_accuracy: 0.5000\n",
      "Epoch 12/50\n",
      "128/128 [==============================] - 30s 235ms/step - loss: 0.6931 - accuracy: 0.5000 - val_loss: 0.6931 - val_accuracy: 0.5000\n",
      "Epoch 13/50\n",
      "128/128 [==============================] - 32s 246ms/step - loss: 0.6931 - accuracy: 0.5000 - val_loss: 0.6931 - val_accuracy: 0.5000\n",
      "Epoch 14/50\n",
      "128/128 [==============================] - 32s 247ms/step - loss: 0.6931 - accuracy: 0.5000 - val_loss: 0.6931 - val_accuracy: 0.5000\n",
      "Epoch 15/50\n",
      "128/128 [==============================] - 30s 235ms/step - loss: 0.6931 - accuracy: 0.5000 - val_loss: 0.6931 - val_accuracy: 0.5000\n",
      "Epoch 16/50\n",
      "128/128 [==============================] - 30s 236ms/step - loss: 0.6931 - accuracy: 0.5000 - val_loss: 0.6931 - val_accuracy: 0.5000\n",
      "Epoch 17/50\n",
      "128/128 [==============================] - 32s 246ms/step - loss: 0.6931 - accuracy: 0.5000 - val_loss: 0.6931 - val_accuracy: 0.5000\n",
      "Epoch 18/50\n",
      "128/128 [==============================] - 32s 247ms/step - loss: 0.6931 - accuracy: 0.5000 - val_loss: 0.6931 - val_accuracy: 0.5000\n",
      "Epoch 19/50\n",
      "128/128 [==============================] - 31s 240ms/step - loss: 0.6931 - accuracy: 0.5000 - val_loss: 0.6931 - val_accuracy: 0.5000\n",
      "Epoch 20/50\n",
      "128/128 [==============================] - 31s 240ms/step - loss: 0.6931 - accuracy: 0.5000 - val_loss: 0.6931 - val_accuracy: 0.5000\n",
      "Epoch 21/50\n",
      "128/128 [==============================] - 32s 251ms/step - loss: 0.6931 - accuracy: 0.5000 - val_loss: 0.6931 - val_accuracy: 0.5000\n",
      "Epoch 22/50\n",
      "128/128 [==============================] - 31s 244ms/step - loss: 0.6931 - accuracy: 0.5000 - val_loss: 0.6931 - val_accuracy: 0.5000\n",
      "Epoch 23/50\n",
      "128/128 [==============================] - 31s 246ms/step - loss: 0.6931 - accuracy: 0.5000 - val_loss: 0.6931 - val_accuracy: 0.5000\n",
      "Epoch 24/50\n",
      "128/128 [==============================] - 32s 253ms/step - loss: 0.6931 - accuracy: 0.5000 - val_loss: 0.6931 - val_accuracy: 0.5000\n",
      "Epoch 25/50\n",
      "128/128 [==============================] - 32s 247ms/step - loss: 0.6931 - accuracy: 0.5000 - val_loss: 0.6931 - val_accuracy: 0.5000\n",
      "Epoch 26/50\n",
      "128/128 [==============================] - 31s 245ms/step - loss: 0.6931 - accuracy: 0.5000 - val_loss: 0.6931 - val_accuracy: 0.5000\n",
      "Epoch 27/50\n",
      "128/128 [==============================] - 32s 247ms/step - loss: 0.6931 - accuracy: 0.5000 - val_loss: 0.6931 - val_accuracy: 0.5000\n",
      "Epoch 28/50\n",
      "128/128 [==============================] - 32s 253ms/step - loss: 0.6931 - accuracy: 0.5000 - val_loss: 0.6931 - val_accuracy: 0.5000\n",
      "Epoch 29/50\n",
      "128/128 [==============================] - 31s 242ms/step - loss: 0.6931 - accuracy: 0.5000 - val_loss: 0.6931 - val_accuracy: 0.5000\n",
      "Epoch 30/50\n",
      "128/128 [==============================] - 32s 250ms/step - loss: 0.6931 - accuracy: 0.5000 - val_loss: 0.6931 - val_accuracy: 0.5000\n",
      "Epoch 31/50\n",
      "128/128 [==============================] - 31s 239ms/step - loss: 0.6931 - accuracy: 0.5000 - val_loss: 0.6931 - val_accuracy: 0.5000\n",
      "Epoch 32/50\n",
      "128/128 [==============================] - 32s 247ms/step - loss: 0.6931 - accuracy: 0.5000 - val_loss: 0.6931 - val_accuracy: 0.5000\n",
      "Epoch 33/50\n",
      "128/128 [==============================] - 30s 237ms/step - loss: 0.6931 - accuracy: 0.5000 - val_loss: 0.6931 - val_accuracy: 0.5000\n",
      "Epoch 34/50\n",
      "128/128 [==============================] - 33s 256ms/step - loss: 0.6931 - accuracy: 0.5000 - val_loss: 0.6931 - val_accuracy: 0.5000\n",
      "Epoch 35/50\n",
      "128/128 [==============================] - 31s 240ms/step - loss: 0.6931 - accuracy: 0.5000 - val_loss: 0.6931 - val_accuracy: 0.5000\n",
      "Epoch 36/50\n",
      "128/128 [==============================] - 32s 253ms/step - loss: 0.6931 - accuracy: 0.5000 - val_loss: 0.6931 - val_accuracy: 0.5000\n",
      "Epoch 37/50\n",
      "128/128 [==============================] - 32s 252ms/step - loss: 0.6931 - accuracy: 0.5000 - val_loss: 0.6931 - val_accuracy: 0.5000\n",
      "Epoch 38/50\n",
      "128/128 [==============================] - 32s 249ms/step - loss: 0.6931 - accuracy: 0.5000 - val_loss: 0.6931 - val_accuracy: 0.5000\n",
      "Epoch 39/50\n",
      "128/128 [==============================] - 32s 248ms/step - loss: 0.6931 - accuracy: 0.5000 - val_loss: 0.6931 - val_accuracy: 0.5000\n",
      "Epoch 40/50\n",
      "128/128 [==============================] - 33s 254ms/step - loss: 0.6931 - accuracy: 0.5000 - val_loss: 0.6931 - val_accuracy: 0.5000\n",
      "Epoch 41/50\n",
      "128/128 [==============================] - 31s 245ms/step - loss: 0.6931 - accuracy: 0.5000 - val_loss: 0.6931 - val_accuracy: 0.5000\n",
      "Epoch 42/50\n",
      "128/128 [==============================] - 32s 247ms/step - loss: 0.6931 - accuracy: 0.5000 - val_loss: 0.6931 - val_accuracy: 0.5000\n",
      "Epoch 43/50\n",
      "128/128 [==============================] - 32s 248ms/step - loss: 0.6931 - accuracy: 0.5000 - val_loss: 0.6931 - val_accuracy: 0.5000\n",
      "Epoch 44/50\n",
      "128/128 [==============================] - 33s 256ms/step - loss: 0.6931 - accuracy: 0.5000 - val_loss: 0.6931 - val_accuracy: 0.5000\n",
      "Epoch 45/50\n",
      "128/128 [==============================] - 33s 255ms/step - loss: 0.6931 - accuracy: 0.5000 - val_loss: 0.6931 - val_accuracy: 0.5000\n",
      "Epoch 46/50\n",
      "128/128 [==============================] - 32s 252ms/step - loss: 0.6931 - accuracy: 0.5000 - val_loss: 0.6931 - val_accuracy: 0.5000\n",
      "Epoch 47/50\n",
      "128/128 [==============================] - 31s 246ms/step - loss: 0.6931 - accuracy: 0.5000 - val_loss: 0.6931 - val_accuracy: 0.5000\n",
      "Epoch 48/50\n",
      "128/128 [==============================] - 32s 246ms/step - loss: 0.6931 - accuracy: 0.5000 - val_loss: 0.6931 - val_accuracy: 0.5000\n",
      "Epoch 49/50\n",
      "128/128 [==============================] - 32s 250ms/step - loss: 0.6931 - accuracy: 0.5000 - val_loss: 0.6931 - val_accuracy: 0.5000\n",
      "Epoch 50/50\n",
      "128/128 [==============================] - 32s 251ms/step - loss: 0.6931 - accuracy: 0.5000 - val_loss: 0.6931 - val_accuracy: 0.5000\n"
     ]
    }
   ],
   "source": [
    "history = model.fit_generator(generator=train_ds, validation_data=valid_ds, steps_per_epoch=128, validation_steps=128, epochs=50)"
   ]
  },
  {
   "cell_type": "code",
   "execution_count": 18,
   "id": "59ca39fb",
   "metadata": {},
   "outputs": [
    {
     "data": {
      "image/png": "[encoded data removed]",
      "text/plain": [
       "<Figure size 640x480 with 1 Axes>"
      ]
     },
     "metadata": {},
     "output_type": "display_data"
    }
   ],
   "source": [
    "plt.figure()\n",
    "plt.plot(history.history[\"accuracy\"])\n",
    "plt.plot(history.history[\"val_accuracy\"])\n",
    "plt.title(\"Model Accuracy\")\n",
    "plt.xlabel(\"Epochs\")\n",
    "plt.ylabel(\"Accuracy\")\n",
    "plt.legend([\"train\", \"val\"])\n",
    "plt.show()"
   ]
  },
  {
   "cell_type": "code",
   "execution_count": 19,
   "id": "6c34afae",
   "metadata": {},
   "outputs": [
    {
     "data": {
      "image/png": "[encoded data removed]",
      "text/plain": [
       "<Figure size 640x480 with 1 Axes>"
      ]
     },
     "metadata": {},
     "output_type": "display_data"
    }
   ],
   "source": [
    "plt.figure()\n",
    "plt.plot(history.history[\"loss\"])\n",
    "plt.plot(history.history[\"val_loss\"])\n",
    "plt.title(\"Model Loss\")\n",
    "plt.xlabel(\"Epochs\")\n",
    "plt.ylabel(\"Loss\")\n",
    "plt.legend([\"train\", \"val\"])\n",
    "plt.show()"
   ]
  },
  {
   "cell_type": "code",
   "execution_count": 26,
   "id": "8217bb51",
   "metadata": {},
   "outputs": [
    {
     "name": "stdout",
     "output_type": "stream",
     "text": [
      "1/1 [==============================] - 0s 19ms/step\n",
      "[0.50608855]\n",
      "Male\n"
     ]
    }
   ],
   "source": [
    "test_image_path = \"Dataset/Test/Male/160002.jpg\"\n",
    "img = load_img(test_image_path, target_size=(64, 64))\n",
    "x = img_to_array(img)\n",
    "x = np.expand_dims(x, axis=0)\n",
    "\n",
    "images = np.vstack([x])\n",
    "classes = model.predict(images, batch_size=1)\n",
    "print(classes[0])\n",
    "\n",
    "if classes[0] > 0.5:\n",
    "    print(\"Male\")\n",
    "else:\n",
    "    print(\"Female\")"
   ]
  },
  {
   "cell_type": "code",
   "execution_count": 25,
   "id": "cb34d061",
   "metadata": {},
   "outputs": [],
   "source": [
    "model.save(\"GenderModel.h5\")"
   ]
  },
  {
   "cell_type": "code",
   "execution_count": 30,
   "id": "ab02b4d9",
   "metadata": {},
   "outputs": [],
   "source": [
    "test_male_path = \"Dataset/Test/Male/\"\n",
    "test_female_path = \"Dataset/Test/Female/\""
   ]
  },
  {
   "cell_type": "code",
   "execution_count": 32,
   "id": "bfda5463",
   "metadata": {},
   "outputs": [],
   "source": [
    "test_males = []\n",
    "\n",
    "for male in os.listdir(test_male_path):\n",
    "    test_male = os.path.join(test_male_path, male)\n",
    "\n",
    "    if male.endswith('.jpg'):\n",
    "        test_males.append(test_male)"
   ]
  },
  {
   "cell_type": "code",
   "execution_count": 33,
   "id": "a8c2937e",
   "metadata": {},
   "outputs": [
    {
     "data": {
      "text/plain": [
       "8459"
      ]
     },
     "execution_count": 33,
     "metadata": {},
     "output_type": "execute_result"
    }
   ],
   "source": [
    "len(test_males)"
   ]
  },
  {
   "cell_type": "code",
   "execution_count": 34,
   "id": "fe007a29",
   "metadata": {},
   "outputs": [],
   "source": [
    "test_females = []\n",
    "\n",
    "for female in os.listdir(test_female_path):\n",
    "    test_female = os.path.join(test_female_path, female)\n",
    "\n",
    "    if female.endswith('.jpg'):\n",
    "        test_females.append(test_female)"
   ]
  },
  {
   "cell_type": "code",
   "execution_count": 35,
   "id": "80eaf3b1",
   "metadata": {},
   "outputs": [
    {
     "data": {
      "text/plain": [
       "11542"
      ]
     },
     "execution_count": 35,
     "metadata": {},
     "output_type": "execute_result"
    }
   ],
   "source": [
    "len(test_females)"
   ]
  },
  {
   "cell_type": "code",
   "execution_count": 49,
   "id": "ce20e3c6",
   "metadata": {},
   "outputs": [
    {
     "name": "stdout",
     "output_type": "stream",
     "text": [
      "Male Score:  48 %\n"
     ]
    }
   ],
   "source": [
    "male_count = 0\n",
    "for i in range(100):\n",
    "    rand_idx = np.random.randint(0, 8459)\n",
    "    test_image_path = test_males[rand_idx]\n",
    "    img = load_img(test_image_path, target_size=(64, 64))\n",
    "    x = img_to_array(img)\n",
    "    x = np.expand_dims(x, axis=0)\n",
    "\n",
    "    images = np.vstack([x])\n",
    "    classes = model.predict(images, batch_size=1, verbose=0)\n",
    "\n",
    "    if classes[0] > 0.5:\n",
    "        male_count += 1\n",
    "        \n",
    "print(\"Male Score: \", male_count, \"%\")"
   ]
  },
  {
   "cell_type": "code",
   "execution_count": 56,
   "id": "8b8fec9c",
   "metadata": {},
   "outputs": [
    {
     "name": "stdout",
     "output_type": "stream",
     "text": [
      "Female Score:  58 %\n"
     ]
    }
   ],
   "source": [
    "female_count = 0\n",
    "for i in range(100):\n",
    "    rand_idx = np.random.randint(0, 11542)\n",
    "    test_image_path = test_females[rand_idx]\n",
    "    img = load_img(test_image_path, target_size=(64, 64))\n",
    "    x = img_to_array(img)\n",
    "    x = np.expand_dims(x, axis=0)\n",
    "\n",
    "    images = np.vstack([x])\n",
    "    classes = model.predict(images, batch_size=1, verbose=0)\n",
    "\n",
    "    if classes[0] < 0.5:\n",
    "        female_count += 1\n",
    "        \n",
    "print(\"Female Score: \", female_count, \"%\")"
   ]
  },
  {
   "cell_type": "code",
   "execution_count": null,
   "id": "9291b6e7",
   "metadata": {},
   "outputs": [],
   "source": []
  }
 ],
 "metadata": {
  "kernelspec": {
   "display_name": "Python 3 (ipykernel)",
   "language": "python",
   "name": "python3"
  },
  "language_info": {
   "codemirror_mode": {
    "name": "ipython",
    "version": 3
   },
   "file_extension": ".py",
   "mimetype": "text/x-python",
   "name": "python",
   "nbconvert_exporter": "python",
   "pygments_lexer": "ipython3",
   "version": "3.8.16"
  }
 },
 "nbformat": 4,
 "nbformat_minor": 5
}
